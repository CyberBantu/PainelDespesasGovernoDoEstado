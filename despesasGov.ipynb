{
 "cells": [
  {
   "cell_type": "code",
   "execution_count": 88,
   "metadata": {},
   "outputs": [
    {
     "data": {
      "text/html": [
       "<div>\n",
       "<style scoped>\n",
       "    .dataframe tbody tr th:only-of-type {\n",
       "        vertical-align: middle;\n",
       "    }\n",
       "\n",
       "    .dataframe tbody tr th {\n",
       "        vertical-align: top;\n",
       "    }\n",
       "\n",
       "    .dataframe thead th {\n",
       "        text-align: right;\n",
       "    }\n",
       "</style>\n",
       "<table border=\"1\" class=\"dataframe\">\n",
       "  <thead>\n",
       "    <tr style=\"text-align: right;\">\n",
       "      <th></th>\n",
       "      <th>Poder</th>\n",
       "      <th>Nome Poder</th>\n",
       "      <th>Grupo</th>\n",
       "      <th>Nome Grupo</th>\n",
       "      <th>Modalidade de Aplicação</th>\n",
       "      <th>Nome Modalidade de Aplicação</th>\n",
       "      <th>Elemento</th>\n",
       "      <th>Nome Elemento</th>\n",
       "      <th>Sub Elemento</th>\n",
       "      <th>Nome Sub Elemento</th>\n",
       "      <th>...</th>\n",
       "      <th>Nome Função</th>\n",
       "      <th>Sub Função</th>\n",
       "      <th>Nome Sub Função</th>\n",
       "      <th>Licitação</th>\n",
       "      <th>Nome Licitação</th>\n",
       "      <th>Empenho</th>\n",
       "      <th>Histórico</th>\n",
       "      <th>Valor Empenhado</th>\n",
       "      <th>Valor Liquidado</th>\n",
       "      <th>Valor Pago</th>\n",
       "    </tr>\n",
       "  </thead>\n",
       "  <tbody>\n",
       "    <tr>\n",
       "      <th>0</th>\n",
       "      <td>1</td>\n",
       "      <td>Executivo</td>\n",
       "      <td>3</td>\n",
       "      <td>OUTRAS DESPESAS CORRENTES</td>\n",
       "      <td>90</td>\n",
       "      <td>Aplicações Diretas</td>\n",
       "      <td>339039</td>\n",
       "      <td>Outros Serviços de Terceiros - Pessoa Jurídic</td>\n",
       "      <td>33903998</td>\n",
       "      <td>DEVOLUÇÃO DE RECURSOS DE REGIME DE DESEMBOLSO</td>\n",
       "      <td>...</td>\n",
       "      <td>Educação</td>\n",
       "      <td>306</td>\n",
       "      <td>Alimentação e Nutrição</td>\n",
       "      <td>7</td>\n",
       "      <td>NAO APLICAVEL</td>\n",
       "      <td>2418</td>\n",
       "      <td>2ª Parcela do Programa Nacional de Alimentação...</td>\n",
       "      <td>13949,5</td>\n",
       "      <td>13949,5</td>\n",
       "      <td>0</td>\n",
       "    </tr>\n",
       "  </tbody>\n",
       "</table>\n",
       "<p>1 rows × 32 columns</p>\n",
       "</div>"
      ],
      "text/plain": [
       "   Poder Nome Poder  Grupo                 Nome Grupo  \\\n",
       "0      1  Executivo      3  OUTRAS DESPESAS CORRENTES   \n",
       "\n",
       "   Modalidade de Aplicação Nome Modalidade de Aplicação  Elemento  \\\n",
       "0                       90           Aplicações Diretas    339039   \n",
       "\n",
       "                                   Nome Elemento  Sub Elemento  \\\n",
       "0  Outros Serviços de Terceiros - Pessoa Jurídic      33903998   \n",
       "\n",
       "                               Nome Sub Elemento  ...  Nome Função Sub Função  \\\n",
       "0  DEVOLUÇÃO DE RECURSOS DE REGIME DE DESEMBOLSO  ...     Educação        306   \n",
       "\n",
       "          Nome Sub Função Licitação  Nome Licitação Empenho  \\\n",
       "0  Alimentação e Nutrição         7   NAO APLICAVEL    2418   \n",
       "\n",
       "                                           Histórico Valor Empenhado  \\\n",
       "0  2ª Parcela do Programa Nacional de Alimentação...         13949,5   \n",
       "\n",
       "   Valor Liquidado Valor Pago  \n",
       "0          13949,5          0  \n",
       "\n",
       "[1 rows x 32 columns]"
      ]
     },
     "execution_count": 88,
     "metadata": {},
     "output_type": "execute_result"
    }
   ],
   "source": [
    "#importando base dos dados\n",
    "import pandas as pd \n",
    "df = pd.read_csv('despesas.csv', encoding='latin1', sep=';')\n",
    "df.head(1)"
   ]
  },
  {
   "cell_type": "code",
   "execution_count": 89,
   "metadata": {},
   "outputs": [],
   "source": [
    "# criando a tabela do Executivo, Legislativo e judiciario\n",
    "# filtrando executivo por Nome Poder\n",
    "executivo = df[df['Nome Poder'] == 'Executivo']\n",
    "legislativo = df[df['Nome Poder'] == 'Legislativo']\n",
    "judiciario = df[df['Nome Poder'] == 'Judiciário']\n",
    "\n",
    "# criando a tabela do Executivo, Legislativo e judiciario\n",
    "# Criadno os csvs\n",
    "executivo.to_csv('despesas_executivo.csv', index=False, sep=';', encoding=\"utf-8\")\n",
    "legislativo.to_csv('despesas_legislativo.csv', index=False, sep=';', encoding=\"utf-8\")\n",
    "judiciario.to_csv('despesas_judiciario.csv', index=False, sep=';', encoding=\"utf-8\")"
   ]
  },
  {
   "cell_type": "code",
   "execution_count": null,
   "metadata": {},
   "outputs": [],
   "source": []
  },
  {
   "cell_type": "code",
   "execution_count": 81,
   "metadata": {},
   "outputs": [
    {
     "data": {
      "text/plain": [
       "Index(['Poder', 'Nome Poder', 'Grupo', 'Nome Grupo', 'Modalidade de Aplicação',\n",
       "       'Nome Modalidade de Aplicação', 'Elemento', 'Nome Elemento',\n",
       "       'Sub Elemento', 'Nome Sub Elemento', 'Órgão', 'Nome Órgão', 'UO',\n",
       "       'Nome UO', 'UG', 'Nome UG', 'Credor', 'Nome Credor',\n",
       "       'Fonte de Recursos', 'Nome Fonte de Recursos', 'Processo', 'Função',\n",
       "       'Nome Função', 'Sub Função', 'Nome Sub Função', 'Licitação',\n",
       "       'Nome Licitação', 'Empenho', 'Histórico', 'Valor Empenhado',\n",
       "       'Valor Liquidado', 'ValorPago'],\n",
       "      dtype='object')"
      ]
     },
     "execution_count": 81,
     "metadata": {},
     "output_type": "execute_result"
    }
   ],
   "source": [
    "executivo.columns"
   ]
  },
  {
   "cell_type": "code",
   "execution_count": 82,
   "metadata": {},
   "outputs": [
    {
     "data": {
      "text/plain": [
       "Index(['Poder', 'Nome Poder', 'Grupo', 'Nome Grupo', 'Modalidade de Aplicação',\n",
       "       'Nome Modalidade de Aplicação', 'Elemento', 'Nome Elemento',\n",
       "       'Sub Elemento', 'Nome Sub Elemento', 'Órgão', 'Nome Órgão', 'UO',\n",
       "       'Nome UO', 'UG', 'Nome UG', 'Credor', 'Nome Credor',\n",
       "       'Fonte de Recursos', 'Nome Fonte de Recursos', 'Processo', 'Função',\n",
       "       'Nome Função', 'Sub Função', 'Nome Sub Função', 'Licitação',\n",
       "       'Nome Licitação', 'Empenho', 'Histórico', 'Valor Empenhado',\n",
       "       'Valor Liquidado', 'ValorPago'],\n",
       "      dtype='object')"
      ]
     },
     "execution_count": 82,
     "metadata": {},
     "output_type": "execute_result"
    }
   ],
   "source": [
    "df = pd.read_csv('despesas_executivo.csv')\n",
    "df.columns"
   ]
  },
  {
   "cell_type": "code",
   "execution_count": 83,
   "metadata": {},
   "outputs": [
    {
     "data": {
      "text/plain": [
       "Index(['Poder', 'Nome Poder', 'Grupo', 'Nome Grupo', 'Modalidade de Aplicação',\n",
       "       'Nome Modalidade de Aplicação', 'Elemento', 'Nome Elemento',\n",
       "       'Sub Elemento', 'Nome Sub Elemento', 'Órgão', 'Nome Órgão', 'UO',\n",
       "       'Nome UO', 'UG', 'Nome UG', 'Credor', 'Nome Credor',\n",
       "       'Fonte de Recursos', 'Nome Fonte de Recursos', 'Processo', 'Função',\n",
       "       'Nome Função', 'Sub Função', 'Nome Sub Função', 'Licitação',\n",
       "       'Nome Licitação', 'Empenho', 'Histórico', 'Valor Empenhado',\n",
       "       'Valor Liquidado', 'ValorPago'],\n",
       "      dtype='object')"
      ]
     },
     "execution_count": 83,
     "metadata": {},
     "output_type": "execute_result"
    }
   ],
   "source": [
    "df.columns"
   ]
  },
  {
   "cell_type": "code",
   "execution_count": null,
   "metadata": {},
   "outputs": [],
   "source": []
  }
 ],
 "metadata": {
  "kernelspec": {
   "display_name": "Python 3",
   "language": "python",
   "name": "python3"
  },
  "language_info": {
   "codemirror_mode": {
    "name": "ipython",
    "version": 3
   },
   "file_extension": ".py",
   "mimetype": "text/x-python",
   "name": "python",
   "nbconvert_exporter": "python",
   "pygments_lexer": "ipython3",
   "version": "3.13.2"
  }
 },
 "nbformat": 4,
 "nbformat_minor": 2
}
